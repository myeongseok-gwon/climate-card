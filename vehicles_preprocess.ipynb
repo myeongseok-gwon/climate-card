{
 "cells": [
  {
   "cell_type": "code",
   "execution_count": 7,
   "metadata": {},
   "outputs": [
    {
     "name": "stdout",
     "output_type": "stream",
     "text": [
      "           일자        교통량  after\n",
      "0    20231101  8755759.0      0\n",
      "1    20231102  8836167.0      0\n",
      "2    20231103  8759771.0      0\n",
      "3    20231104  8156779.0      0\n",
      "4    20231105  6821094.0      0\n",
      "..        ...        ...    ...\n",
      "147  20240327  9402087.0      1\n",
      "148  20240328  9296754.0      1\n",
      "149  20240329  9443261.0      1\n",
      "150  20240330  8488355.0      1\n",
      "151  20240331  7584153.0      1\n",
      "\n",
      "[152 rows x 3 columns]\n"
     ]
    }
   ],
   "source": [
    "import pandas as pd\n",
    "import glob\n",
    "\n",
    "file_paths = glob.glob(\"vehicles/data/seoul/*.xlsx\")\n",
    "\n",
    "all_data = []\n",
    "\n",
    "for file_name in file_paths:\n",
    "    # 파일 읽기 (두 번째 시트 사용)\n",
    "    df = pd.read_excel(file_name, sheet_name=1)\n",
    "    \n",
    "    # 시간대 컬럼들만 선택하여 합산\n",
    "    time_columns = df.columns[6:]  # '0시'부터 '23시'까지의 컬럼들\n",
    "    df['교통량'] = df[time_columns].sum(axis=1)\n",
    "    \n",
    "    # '일자'와 '교통량' 컬럼만 선택\n",
    "    df = df[['일자', '교통량']]\n",
    "    \n",
    "    all_data.append(df)\n",
    "\n",
    "# 모든 데이터프레임을 하나로 병합\n",
    "merged_df = pd.concat(all_data)\n",
    "\n",
    "# 동일한 '일자' 기준으로 교통량 합산\n",
    "final_df = merged_df.groupby('일자', as_index=False)['교통량'].sum()\n",
    "\n",
    "# 'after' 컬럼 추가\n",
    "final_df['after'] = final_df['일자'].apply(lambda x: 1 if int(x) >= 20240127 else 0)\n",
    "\n",
    "# 결과 저장\n",
    "final_df.to_csv(\"vehicles/preprocessed_data/vehicle_seoul.csv\", index=False, encoding='utf-8-sig')\n",
    "\n",
    "# 결과 출력 (콘솔 출력)\n",
    "print(final_df)\n"
   ]
  },
  {
   "cell_type": "code",
   "execution_count": 8,
   "metadata": {},
   "outputs": [
    {
     "name": "stdout",
     "output_type": "stream",
     "text": [
      "           일자       교통량  after\n",
      "0    20231101  728567.0      0\n",
      "1    20231102  713653.0      0\n",
      "2    20231103  730235.0      0\n",
      "3    20231104  761240.0      0\n",
      "4    20231105  782404.0      0\n",
      "..        ...       ...    ...\n",
      "147  20240327  700831.0      1\n",
      "148  20240328  707212.0      1\n",
      "149  20240329  705213.0      1\n",
      "150  20240330  740597.0      1\n",
      "151  20240331  716665.0      1\n",
      "\n",
      "[152 rows x 3 columns]\n"
     ]
    }
   ],
   "source": [
    "\n",
    "# 사용할 파일들 (2023년 11월, 12월, 2024년 1월, 2월, 3월)\n",
    "file_paths = glob.glob(\"vehicles/data/incheon/*.xlsx\")\n",
    "\n",
    "all_data = []\n",
    "\n",
    "for file_name in file_paths:\n",
    "    df = pd.read_excel(file_name)\n",
    "    # 시간대 컬럼들만 선택하여 합산\n",
    "    time_columns = df.columns[3:]  # '00시'부터 '23시'까지의 컬럼들\n",
    "    df[time_columns] = df[time_columns].apply(pd.to_numeric, errors='coerce').fillna(0)\n",
    "    df['교통량'] = df[time_columns].sum(axis=1)\n",
    "\n",
    "    # '일자'에서 하이픈 제거\n",
    "    df['일자'] = df['일자'].str.replace('-', '')\n",
    "    \n",
    "    # '일자'와 '교통량' 컬럼만 선택\n",
    "    df = df[['일자', '교통량']]\n",
    "    \n",
    "    all_data.append(df)\n",
    "\n",
    "# 모든 데이터프레임을 하나로 병합\n",
    "merged_df = pd.concat(all_data)\n",
    "\n",
    "# 동일한 '일자' 기준으로 교통량 합산\n",
    "final_df = merged_df.groupby('일자', as_index=False)['교통량'].sum()\n",
    "\n",
    "# 'after' 컬럼 추가\n",
    "final_df['after'] = final_df['일자'].apply(lambda x: 1 if int(x) >= 20240127 else 0)\n",
    "\n",
    "# 결과 저장 (엑셀 파일로 저장할 경우)\n",
    "final_df.to_csv(\"vehicle/preprocessed_data/vehicles_incheon.csv\", index=False, encoding='utf-8-sig')\n",
    "\n",
    "# 결과 출력 (콘솔 출력)\n",
    "print(final_df)"
   ]
  }
 ],
 "metadata": {
  "kernelspec": {
   "display_name": "Python 3",
   "language": "python",
   "name": "python3"
  },
  "language_info": {
   "codemirror_mode": {
    "name": "ipython",
    "version": 3
   },
   "file_extension": ".py",
   "mimetype": "text/x-python",
   "name": "python",
   "nbconvert_exporter": "python",
   "pygments_lexer": "ipython3",
   "version": "3.11.9"
  }
 },
 "nbformat": 4,
 "nbformat_minor": 2
}
